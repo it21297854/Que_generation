{
 "cells": [
  {
   "cell_type": "code",
   "execution_count": 2,
   "metadata": {},
   "outputs": [],
   "source": [
    "import PyPDF2, json, pprint, json, os\n",
    "from llama_index.llms.openai import OpenAI\n",
    "import os, yaml, warnings, nest_asyncio, random\n",
    "from llama_index.core import Settings, ChatPromptTemplate\n",
    "from llama_index.core.llms import (\n",
    "                                ChatMessage,\n",
    "                                MessageRole\n",
    "                                )\n",
    "warnings.filterwarnings(\n",
    "                        \"ignore\", \n",
    "                        category=FutureWarning\n",
    "                        )\n",
    "nest_asyncio.apply()"
   ]
  },
  {
   "cell_type": "code",
   "execution_count": 3,
   "metadata": {},
   "outputs": [
    {
     "data": {
      "text/plain": [
       "'\\n- Generate Questions and Answers (Should be adaptive)\\n- Check the validity / relatedness of the questions to context \\n- Check also grammer \\n- Feedbacks\\n'"
      ]
     },
     "execution_count": 3,
     "metadata": {},
     "output_type": "execute_result"
    }
   ],
   "source": [
    "\"\"\"\n",
    "- Generate Questions and Answers (Should be adaptive)\n",
    "- Check the validity / relatedness of the questions to context \n",
    "- Check also grammer \n",
    "- Feedbacks\n",
    "\"\"\""
   ]
  },
  {
   "cell_type": "code",
   "execution_count": 4,
   "metadata": {},
   "outputs": [],
   "source": [
    "with open('secrets.yaml') as f:\n",
    "    secrets = yaml.load(f, Loader=yaml.FullLoader)\n",
    "\n",
    "os.environ[\"OPENAI_API_KEY\"] = secrets['OPENAI_API_KEY']\n",
    "llm = OpenAI(\n",
    "            model=\"gpt-4o\", #Model\n",
    "            api_key=os.environ[\"OPENAI_API_KEY\"],\n",
    "            temperature=0.3\n",
    "            )\n",
    "Settings.llm = llm"
   ]
  },
  {
   "cell_type": "code",
   "execution_count": 5,
   "metadata": {},
   "outputs": [],
   "source": [
    "QGEN_PROMPT_TEMPLATE = '''\n",
    "You are an expert in creating educational content, specializing in creating questions / assignments for English language.\n",
    "\n",
    "Requirements:\n",
    "\n",
    "- There are 3 question categories.\n",
    "    1. Multiple Choice Questions (MCQs)\n",
    "    2. Structured Questions\n",
    "    3. Fill-in-the-Blanks Questions\n",
    "- You should generate minimum 2, maximum 5 questions for each category.\n",
    "- The question should meet the difficulty level as \"{difficulty}\n",
    "- For MCQs \n",
    "        -> provide **four** answer options labeled A, B, C, and D. \n",
    "        -> Only **one** of the options should be the correct answer.\n",
    "        -> The incorrect options (distractors) should be plausible to someone unfamiliar with the topic but clearly incorrect to someone who knows the material.\n",
    "        -> After listing the options, clearly indicate the correct answer by stating \"Answer: X\" where X is A, B, C, or D.\n",
    "- For Structured Questions\n",
    "        -> provide a answer that is a short paragraph.\n",
    "- For Fill-in-the-Blanks Questions\n",
    "        -> space should indicate using <blank> tag.\n",
    "        -> provide a short paragraph with a blank spaces. each question must contain atleast two blanks.\n",
    "        -> seperately provide the answers for the blanks.\n",
    "- Ensure that the content is accurate and free of errors.\n",
    "\n",
    "Example Format:\n",
    "\n",
    "## Multiple Choice Questions (MCQs)\n",
    "{\n",
    "    \"Question\": <Your question here>,\n",
    "    \"options\": [\"Option A\", \"Option B\", \"Option C\", \"Option D\"],\n",
    "    \"correct_answer\": <Your answer here>\n",
    "}\n",
    "\n",
    "## Structured Questions\n",
    "{\n",
    "    \"Question\": <Your question here>,\n",
    "    \"Answer\": <Your answer here>\n",
    "}\n",
    "\n",
    "## Fill-in-the-Blanks Questions\n",
    "{\n",
    "    \"Question\": <Your question here>,\n",
    "    \"Blanks\": [\"<blank>\", \"<blank>\"],\n",
    "}\n",
    "\n",
    "Using above template, generate questions for the following context:\n",
    "\n",
    "-----------------------------------------\n",
    "{context}\n",
    "-----------------------------------------\n",
    "\n",
    "ALL QUESTIONS MUST RESULT UNDER ONE PYTHON LIST OF DICTIONARIES. DO NOT INCLUDE ANY CODE OUTSIDE THE DICTIONARIES.\n",
    "'''\n",
    "\n",
    "qgen_template = ChatPromptTemplate(\n",
    "                                    message_templates=[\n",
    "                                                    ChatMessage(\n",
    "                                                                role=MessageRole.SYSTEM, \n",
    "                                                                content=QGEN_PROMPT_TEMPLATE\n",
    "                                                                )\n",
    "                                                    ]\n",
    "                                    )"
   ]
  },
  {
   "cell_type": "code",
   "execution_count": 6,
   "metadata": {},
   "outputs": [],
   "source": [
    "def read_pdf(file_path):\n",
    "    with open(file_path, 'rb') as file:\n",
    "        pdf = PyPDF2.PdfReader(file)\n",
    "        text = ''\n",
    "        for page in range(len(pdf.pages)):\n",
    "            text += pdf.pages[page].extract_text()\n",
    "    return text\n",
    "\n",
    "def post_process_output(raw_output):\n",
    "    raw_output = raw_output.strip()\n",
    "    if (not raw_output.startswith(\"[\")) or (not raw_output.endswith(\"]\")):\n",
    "        index_start = raw_output.find(\"[\")  \n",
    "        index_end = raw_output.rfind(\"]\") + 1\n",
    "        raw_output = raw_output[index_start:index_end]\n",
    "        json_output = eval(raw_output)\n",
    "        return json_output\n",
    "    \n",
    "    return eval(raw_output)\n",
    "\n",
    "def generate_quiz(\n",
    "                file_path,\n",
    "                difficulty,\n",
    "                generated_q_dir\n",
    "                ):\n",
    "    filename = file_path.split('/')[-1].replace('.pdf', '')\n",
    "    gen_q_path = f\"{generated_q_dir}/{filename}.json\"\n",
    "    if not os.path.exists(gen_q_path):\n",
    "        while True:\n",
    "            try:\n",
    "                text = read_pdf(file_path)\n",
    "                fmt_messages = qgen_template.format_messages(\n",
    "                                                            context=text,\n",
    "                                                            difficulty=difficulty\n",
    "                                                            )\n",
    "                chat_response = llm.chat(fmt_messages)\n",
    "                raw_output = chat_response.message.content\n",
    "                json_output = post_process_output(raw_output)\n",
    "                \n",
    "                with open(gen_q_path, 'w') as f:\n",
    "                    json.dump(json_output, f, indent=4)\n",
    "\n",
    "                break\n",
    "\n",
    "            except Exception as e:\n",
    "                print(\"Retrying due to error: \", e)\n",
    "\n",
    "    with open(gen_q_path) as f:\n",
    "        questions = json.load(f)\n",
    "    return questions"
   ]
  },
  {
   "cell_type": "code",
   "execution_count": 21,
   "metadata": {},
   "outputs": [
    {
     "name": "stdout",
     "output_type": "stream",
     "text": [
      "[{'Question': 'What is one of the key tips mentioned for effective revision?',\n",
      "  'correct_answer': 'Rewrite notes and use them for revision',\n",
      "  'options': ['Leave revision until the last minute',\n",
      "              'Rewrite notes and use them for revision',\n",
      "              'Memorize everything',\n",
      "              \"Ignore classmates' help\"]},\n",
      " {'Question': 'According to the text, how long does Anna spend on revision '\n",
      "              'each day?',\n",
      "  'correct_answer': '30 minutes',\n",
      "  'options': ['15 minutes', '30 minutes', '1 hour', '2 hours']},\n",
      " {'Question': 'What is one benefit of revising with a classmate according to '\n",
      "              'Student 2?',\n",
      "  'correct_answer': 'It helps to discuss mistakes and errors',\n",
      "  'options': ['It helps to memorize everything',\n",
      "              'It allows for more social time',\n",
      "              'It helps to discuss mistakes and errors',\n",
      "              'It reduces the amount of work']},\n",
      " {'Question': 'What should you avoid doing during revision, as per the advice '\n",
      "              'given?',\n",
      "  'correct_answer': 'Memorizing everything',\n",
      "  'options': ['Listening in class',\n",
      "              'Making a timetable',\n",
      "              'Memorizing everything',\n",
      "              'Discussing with classmates']},\n",
      " {'Question': 'What is a suggested method for planning revision?',\n",
      "  'correct_answer': 'Make a timetable and stick to it',\n",
      "  'options': ['Ignore making a timetable',\n",
      "              'Plan revision randomly',\n",
      "              'Make a timetable and stick to it',\n",
      "              'Only revise when you feel like it']},\n",
      " {'Answer': 'The main purpose of rewriting notes is to use them as part of '\n",
      "            'your revision process. This helps reinforce the material and '\n",
      "            'ensures that you have a clear and organized set of information to '\n",
      "            'study from.',\n",
      "  'Question': 'What is the main purpose of rewriting notes according to the '\n",
      "              'text?'},\n",
      " {'Answer': 'Revising with a classmate benefits students by allowing them to '\n",
      "            \"check each other's answers and discuss any mistakes or errors. \"\n",
      "            'This collaborative approach can enhance understanding and '\n",
      "            'retention of the material.',\n",
      "  'Question': 'How does revising with a classmate benefit students, as '\n",
      "              'mentioned in the text?'},\n",
      " {'Answer': 'Anna focuses on listening, reading, vocabulary, and speaking '\n",
      "            'during her daily revision. She dedicates at least half an hour '\n",
      "            'each day to these different areas of language learning.',\n",
      "  'Question': 'What are some of the areas Anna focuses on during her daily '\n",
      "              'revision?'},\n",
      " {'Answer': 'It is important not to leave revision until the last minute '\n",
      "            'because effective revision requires careful planning and '\n",
      "            'consistent effort over time. Last-minute cramming can lead to '\n",
      "            'stress and may not be as effective in retaining information.',\n",
      "  'Question': 'Why is it important not to leave revision until the last '\n",
      "              'minute?'},\n",
      " {'Blanks': ['last', 'revision'],\n",
      "  'Question': \"It's important to not leave revision until the <blank> minute. \"\n",
      "              'Rewrite your notes and use them as part of your <blank>.'},\n",
      " {'Blanks': ['half', 'speaking'],\n",
      "  'Question': 'Anna revises every day for at least <blank> an hour, focusing '\n",
      "              'on listening, reading, vocabulary, and <blank>.'},\n",
      " {'Blanks': ['mistakes', 'errors'],\n",
      "  'Question': \"Revising with a classmate helps to check each other's answers \"\n",
      "              'and discuss <blank> or <blank>.'}]\n"
     ]
    }
   ],
   "source": [
    "raw_output = generate_quiz(\n",
    "                        file_path = \"English/bbc_exam_skills_revising_part1_2.pdf\",\n",
    "                        difficulty = \"Medium\", generated_q_dir=\"Generated/Medium/\"\n",
    "                        )\n",
    "pprint.pprint(raw_output)"
   ]
  },
  {
   "cell_type": "code",
   "execution_count": null,
   "metadata": {},
   "outputs": [],
   "source": [
    "def generate_quiz_all_docs(\n",
    "                        file_dir = 'English/',\n",
    "                        difficulty = 'Easy',\n",
    "                        n_questions = 20\n",
    "                        ):\n",
    "    generated_q_dir = 'Generated/{}/'.format(difficulty)\n",
    "    if not os.path.exists(generated_q_dir):\n",
    "        os.makedirs(generated_q_dir)\n",
    "\n",
    "    full_quiz, file_paths = [], []\n",
    "    for file in os.listdir(file_dir):\n",
    "        if file.endswith('.pdf'):\n",
    "            print(\"Processing file: \", file)\n",
    "            file_path = file_dir + file\n",
    "            file_path = file_path.replace('\\\\', '/')    \n",
    "            quiz = generate_quiz(\n",
    "                                file_path = file_dir + file,\n",
    "                                difficulty = difficulty,\n",
    "                                generated_q_dir = generated_q_dir\n",
    "                                )\n",
    "            full_quiz.extend(quiz)\n",
    "            file_paths.extend([file_path] * len(quiz))\n",
    "\n",
    "    print(f\"{len(full_quiz)} questions generated ...\")\n",
    "    if len(full_quiz) > n_questions:\n",
    "        rand_idxs = random.sample(range(len(full_quiz)), n_questions)\n",
    "        full_quiz = [full_quiz[i] for i in rand_idxs]\n",
    "        file_paths = [file_paths[i] for i in rand_idxs]\n",
    "    return full_quiz, file_paths"
   ]
  },
  {
   "cell_type": "code",
   "execution_count": 9,
   "metadata": {},
   "outputs": [
    {
     "name": "stdout",
     "output_type": "stream",
     "text": [
      "Processing file:  170210_bbc_learners_questions_unit1.pdf\n",
      "Processing file:  bbc_exam_skills_revising_part1.pdf\n",
      "Processing file:  bbc_exam_skills_revising_part1_2.pdf\n",
      "Processing file:  English questions.pdf\n",
      "Processing file:  englishclub-7-secrets.pdf\n",
      "Processing file:  IT1080 -English for Academic Purposes.pdf\n",
      "Processing file:  IT2090 - Professional Skills.pdf\n",
      "Processing file:  SE1042-English for Academic Purposes.pdf\n",
      "Processing file:  t-054-all-tenses.pdf\n",
      "Processing file:  TENSES (1).pdf\n",
      "95 questions generated ...\n"
     ]
    }
   ],
   "source": [
    "full_quiz, file_paths = generate_quiz_all_docs()"
   ]
  },
  {
   "cell_type": "code",
   "execution_count": 10,
   "metadata": {},
   "outputs": [
    {
     "data": {
      "text/plain": [
       "[{'Question': 'What happened after Claire had been running for half an hour?',\n",
       "  'Answer': 'After Claire had been running for half an hour, she suddenly stopped to check her watch.'},\n",
       " {'Question': 'Anna revises daily, spending at least <blank> an hour on different areas of language such as <blank>, reading, vocabulary, and speaking.',\n",
       "  'Blanks': ['half', 'listening']},\n",
       " {'Question': 'What are the benefits of Work From Home (WFH) for employees?',\n",
       "  'Answer': 'The benefits of Work From Home (WFH) for employees include reduced commuting time and expenses, greater flexibility in work location and hours, fewer distractions, and an improved work-life balance. These factors contribute to increased job satisfaction and productivity.'},\n",
       " {'Question': 'What is the main goal of the Biophilic Cities Network?',\n",
       "  'options': ['To increase urbanization',\n",
       "   'To reduce greenhouse gas emissions',\n",
       "   'To integrate nature into urban living',\n",
       "   'To promote industrial growth'],\n",
       "  'correct_answer': 'C'},\n",
       " {'Question': \"What is a key characteristic of the 'Forming' stage in Tuckman's team development model?\",\n",
       "  'options': ['A. Conflict and disagreement',\n",
       "   'B. High performance and productivity',\n",
       "   'C. Team members getting to know each other',\n",
       "   'D. Team disbandment'],\n",
       "  'correct_answer': 'C'},\n",
       " {'Question': \"How can you make an 'as...as' expression negative?\",\n",
       "  'options': [\"A. Add 'not' before the first 'as'\",\n",
       "   \"B. Add 'no' before the second 'as'\",\n",
       "   \"C. Add 'never' before the adjective\",\n",
       "   \"D. Add 'none' after the adjective\"],\n",
       "  'correct_answer': 'A'},\n",
       " {'Question': 'What do most police officers wear to work?',\n",
       "  'options': ['Casual clothes', 'Uniforms', 'Suits', 'Sportswear'],\n",
       "  'correct_answer': 'Uniforms'},\n",
       " {'Question': \"In English grammar, a <blank> is a word that connects clauses or sentences. Examples include 'and', 'but', and 'or'. A <blank> is essential for creating complex sentences.\",\n",
       "  'Blanks': ['conjunction', 'conjunction']},\n",
       " {'Question': 'The Simple Present tense is used to denote scientific facts, universal truths, and work done on a daily basis. For example, <blank> writes a letter. The Present Perfect Continuous tense shows the action which started in the past and is still continuing. For example, She <blank> been writing a letter.',\n",
       "  'Blanks': ['She', 'has']},\n",
       " {'Question': 'Last night, when I was <blank> dinner, my mom <blank>. I totally forgot about the roast in the oven, and I burned everything.',\n",
       "  'Blanks': ['making', 'called']},\n",
       " {'Question': 'Why is it important not to leave revision until the last minute?',\n",
       "  'Answer': 'Leaving revision until the last minute can lead to stress and insufficient preparation. By starting early, you have more time to understand and retain the material, leading to better performance in exams.'},\n",
       " {'Question': 'Describe how gap analysis will help you in professional development planning.',\n",
       "  'Answer': 'Gap analysis helps in professional development planning by identifying the differences between the current skills and the desired skills needed for a particular profession. It allows individuals to focus on specific areas for improvement and create a structured plan to acquire the necessary skills.'},\n",
       " {'Question': 'How can revising with a classmate be beneficial?',\n",
       "  'Answer': 'Revising with a classmate can be beneficial because it allows you to discuss and understand mistakes, learn from each other, and reinforce your knowledge through collaboration.'},\n",
       " {'Question': 'Is a retail shop owner an entrepreneur? Justify your answer.',\n",
       "  'Answer': 'Yes, a retail shop owner can be considered an entrepreneur as they take on the risks of starting and managing a business to earn profits. They often innovate in terms of product offerings, customer service, and business strategies to stay competitive in the market.'},\n",
       " {'Question': \"What does the verb 'revise' mean in British English according to the text?\",\n",
       "  'options': ['To write again',\n",
       "   'To listen again',\n",
       "   'To re-read to improve knowledge',\n",
       "   'To speak again'],\n",
       "  'correct_answer': 'To re-read to improve knowledge'},\n",
       " {'Question': 'Which of the following words is an adjective?',\n",
       "  'options': ['A. Run', 'B. Beautiful', 'C. Quickly', 'D. Happiness'],\n",
       "  'correct_answer': 'B. Beautiful'},\n",
       " {'Question': \"The <blank> is the part of a sentence that tells what the subject does or is. In the sentence 'The dog barks loudly', 'barks loudly' is the <blank>.\",\n",
       "  'Blanks': ['predicate', 'predicate']},\n",
       " {'Question': 'Describe the situation in the history lesson yesterday.',\n",
       "  'Answer': 'In the history lesson yesterday, my friend and I were talking to each other and were not paying attention. Suddenly, our history teacher was standing right next to us.'},\n",
       " {'Question': \"What is the opposite of 'cold'?\",\n",
       "  'options': ['A. Hot', 'B. Wet', 'C. Dry', 'D. Cool'],\n",
       "  'correct_answer': 'A. Hot'},\n",
       " {'Question': 'What is a benefit of revising with a classmate?',\n",
       "  'options': ['You can avoid mistakes',\n",
       "   'You can memorize everything',\n",
       "   'You can discuss mistakes',\n",
       "   'You can skip revision'],\n",
       "  'correct_answer': 'You can discuss mistakes'}]"
      ]
     },
     "execution_count": 10,
     "metadata": {},
     "output_type": "execute_result"
    }
   ],
   "source": [
    "full_quiz"
   ]
  },
  {
   "cell_type": "code",
   "execution_count": 11,
   "metadata": {},
   "outputs": [],
   "source": [
    "Q_VALIDATION_PROMPT_TEMPLATE = '''\n",
    "You are an expert in creating educational content, specializing in creating questions / assignments for English language. You have been given a set of questions to review.\n",
    "You should validate the questions based on the following criteria:\n",
    "\n",
    "        1. Grammar and spelling errors\n",
    "        2. Accuracy / Creditability of the generated questions and answers based on the context\n",
    "        3. Relevance of the questions to the context\n",
    "\n",
    "Here you have provided the context and the questions with answers\n",
    "\n",
    "-----------------------------------------\n",
    "{context}\n",
    "-----------------------------------------\n",
    "\n",
    "{question}\n",
    "\n",
    "Please provide your feeddback for each of the above criterias out of 10. also provide any additional comments but short if needed.\n",
    "'''\n",
    "\n",
    "qval_template = ChatPromptTemplate(\n",
    "                                    message_templates=[\n",
    "                                                    ChatMessage(\n",
    "                                                                role=MessageRole.SYSTEM, \n",
    "                                                                content=Q_VALIDATION_PROMPT_TEMPLATE\n",
    "                                                                )\n",
    "                                                    ]\n",
    "                                    )"
   ]
  },
  {
   "cell_type": "code",
   "execution_count": 12,
   "metadata": {},
   "outputs": [],
   "source": [
    "def question_validation(\n",
    "                        full_quiz,\n",
    "                        file_paths\n",
    "                        ):\n",
    "    comments = []\n",
    "    for filepath, q in zip(file_paths, full_quiz):\n",
    "        context = read_pdf(filepath)\n",
    "        fmt_messages = qval_template.format_messages(\n",
    "                                                    context=context,\n",
    "                                                    question=q\n",
    "                                                    )\n",
    "        chat_response = llm.chat(fmt_messages)\n",
    "        raw_output = chat_response.message.content\n",
    "        comments.append(raw_output)\n",
    "    return comments"
   ]
  },
  {
   "cell_type": "code",
   "execution_count": 13,
   "metadata": {},
   "outputs": [
    {
     "data": {
      "text/plain": [
       "['1. Grammar and spelling errors: 10/10 \\n   - The question and answer are grammatically correct and free of spelling errors.\\n\\n2. Accuracy / Credibility of the generated questions and answers based on the context: 10/10 \\n   - The question accurately reflects the context provided, and the answer is correct according to the given exercise.\\n\\n3. Relevance of the questions to the context: 10/10 \\n   - The question is directly relevant to the context of the exercise, focusing on the specific event that occurred after Claire had been running for half an hour.\\n\\nAdditional Comments: The question and answer are well-constructed and align perfectly with the context. No improvements needed.',\n",
       " \"1. Grammar and spelling errors: 10/10\\n   - The question and answer are free from any grammar or spelling errors.\\n\\n2. Accuracy / Credibility of the generated questions and answers based on the context: 10/10\\n   - The question accurately reflects the information provided in the context. Anna indeed revises daily, spending at least half an hour on different areas of language, including listening.\\n\\n3. Relevance of the questions to the context: 10/10\\n   - The question is directly relevant to the context, focusing on Anna's revision strategy, which is a key part of the provided text.\\n\\nAdditional Comments:\\n- The question effectively tests the reader's understanding of the specific details mentioned in the context.\",\n",
       " 'Feedback:\\n\\n1. Grammar and spelling errors: 10/10\\n   - The question and answer are free from grammar and spelling errors.\\n\\n2. Accuracy / Credibility of the generated questions and answers based on the context: 9/10\\n   - The question accurately asks for the benefits of Work From Home (WFH) for employees, and the answer correctly lists the benefits as mentioned in the provided context. However, it could also mention the specific context of Sri Lanka to enhance relevance.\\n\\n3. Relevance of the questions to the context: 9/10\\n   - The question is relevant to the context provided, as it directly asks about the benefits of WFH, which is discussed in the text. However, it could be more specific by referencing the context of Sri Lanka, as mentioned in the passage.\\n\\nAdditional Comments:\\n- The question and answer are well-structured and align with the provided context. Including the specific mention of Sri Lanka in the answer could improve the specificity and relevance.',\n",
       " 'Feedback for the question:\\n\\n1. Grammar and spelling errors: 10/10\\n   - The question and options are grammatically correct and free from spelling errors.\\n\\n2. Accuracy / Credibility of the generated questions and answers based on the context: 9/10\\n   - The question accurately reflects the content of the passage regarding the Biophilic Cities Network. The correct answer, \"To integrate nature into urban living,\" aligns with the passage\\'s description of the network\\'s goals.\\n\\n3. Relevance of the questions to the context: 10/10\\n   - The question is directly relevant to the context provided in the passage about the Biophilic Cities Network.\\n\\nAdditional Comments:\\n- The question is well-constructed and effectively assesses the reader\\'s understanding of the main goal of the Biophilic Cities Network as described in the passage.',\n",
       " 'Feedback:\\n\\n1. Grammar and Spelling Errors: 10/10\\n   - The question and options are free from any grammatical or spelling errors.\\n\\n2. Accuracy / Credibility of the Generated Questions and Answers: 10/10\\n   - The question accurately asks about a key characteristic of the \\'Forming\\' stage in Tuckman\\'s team development model. The correct answer, \"C. Team members getting to know each other,\" is accurate and aligns with the established understanding of the \\'Forming\\' stage.\\n\\n3. Relevance of the Questions to the Context: 10/10\\n   - The question is relevant to the context provided, as it pertains to team development stages, which is a part of the syllabus for the Professional Skills course mentioned in the examination paper.\\n\\nAdditional Comments:\\n- The question is well-constructed and directly related to the content of the course, making it a suitable question for assessing students\\' understanding of team development models.',\n",
       " '1. Grammar and spelling errors: 10/10\\n   - The question and options are free from grammar and spelling errors.\\n\\n2. Accuracy / Credibility of the generated questions and answers based on the context: 10/10\\n   - The question accurately reflects the content discussed in the provided context. The correct answer, \"A. Add \\'not\\' before the first \\'as\\'\", is consistent with the explanation given in the text.\\n\\n3. Relevance of the questions to the context: 10/10\\n   - The question is highly relevant to the context, as it directly pertains to the explanation of making \\'as...as\\' expressions negative, which is a key point discussed in the text.\\n\\nAdditional Comments:\\n- The question is well-constructed and directly tests the learner\\'s understanding of the specific grammatical point discussed in the context.',\n",
       " \"1. Grammar and spelling errors: 10/10\\n   - The question and options are free from grammar and spelling errors.\\n\\n2. Accuracy / Credibility of the generated questions and answers based on the context: 10/10\\n   - The question accurately reflects the information provided in the context, where it is stated that most police officers wear uniforms to work.\\n\\n3. Relevance of the questions to the context: 10/10\\n   - The question is directly relevant to the context, as it pertains to the details about police officers' attire mentioned in the exercise.\\n\\nAdditional Comments:\\n- The question is well-constructed and aligns perfectly with the context provided. No improvements are necessary.\",\n",
       " '1. Grammar and spelling errors: 10/10\\n   - The question is free from grammar and spelling errors.\\n\\n2. Accuracy / Credibility of the generated questions and answers based on the context: 10/10\\n   - The question accurately describes the role of a conjunction in English grammar, and the provided answers correctly fill in the blanks.\\n\\n3. Relevance of the questions to the context: 10/10\\n   - The question is relevant to the context of English grammar, specifically focusing on conjunctions and their function in sentence construction.\\n\\nAdditional Comments:\\n- The question is well-constructed and effectively tests the understanding of conjunctions in English grammar.',\n",
       " '1. Grammar and spelling errors: 10/10\\n   - The question is free from grammar and spelling errors.\\n\\n2. Accuracy / Credibility of the generated questions and answers based on the context: 10/10\\n   - The question accurately reflects the context provided. The Simple Present tense example \"She writes a letter\" and the Present Perfect Continuous tense example \"She has been writing a letter\" are correctly used.\\n\\n3. Relevance of the questions to the context: 10/10\\n   - The question is relevant to the context of tenses, specifically focusing on the Simple Present and Present Perfect Continuous tenses.\\n\\nAdditional Comments:\\n- The question effectively tests the understanding of the usage of Simple Present and Present Perfect Continuous tenses, aligning well with the context provided.',\n",
       " '1. **Grammar and Spelling Errors: 10/10**  \\n   The question is grammatically correct and free of spelling errors.\\n\\n2. **Accuracy / Credibility: 10/10**  \\n   The question accurately reflects the context provided. The verbs \"making\" and \"called\" are correctly used in the past continuous and simple past tense, respectively, which is consistent with the narrative of events happening in the past.\\n\\n3. **Relevance to the Context: 10/10**  \\n   The question is relevant to the context as it is directly derived from the exercise provided. It tests the understanding of past continuous and simple past tense usage, which is the focus of the exercise.\\n\\n**Additional Comments:**  \\nThe question is well-constructed and aligns perfectly with the exercise\\'s objective of practicing verb tenses.',\n",
       " '1. Grammar and spelling errors: 10/10 \\n   - The question and answer are free from any grammar or spelling errors.\\n\\n2. Accuracy / Credibility of the generated questions and answers based on the context: 9/10\\n   - The question is accurate and relevant to the context provided. The answer correctly explains the importance of not leaving revision until the last minute, aligning with the advice given in the context.\\n\\n3. Relevance of the questions to the context: 10/10\\n   - The question is highly relevant to the context, as the text emphasizes the importance of planning and starting revision early.\\n\\nAdditional Comments:\\n- The question effectively captures a key point from the context and encourages critical thinking about revision strategies.',\n",
       " '1. Grammar and spelling errors: 9/10\\n   - The question and answer are mostly free of grammatical and spelling errors. The only minor issue is the spacing in \"dif ferent\" in the context, which does not affect the question itself.\\n\\n2. Accuracy / Credibility of the generated questions and answers based on the context: 10/10\\n   - The question accurately asks about the role of gap analysis in professional development planning, and the answer correctly explains how gap analysis can be used to identify skill gaps and create a plan for improvement.\\n\\n3. Relevance of the questions to the context: 10/10\\n   - The question is highly relevant to the context of professional development planning, which is a key component of the course outlined in the examination paper.\\n\\nAdditional Comments:\\n- The question and answer are well-aligned with the context of the examination paper and provide a clear understanding of how gap analysis can be applied in professional development planning.',\n",
       " '1. Grammar and spelling errors: 10/10  \\n   - The question and answer are free of grammar and spelling errors.\\n\\n2. Accuracy / Credibility of the generated questions and answers based on the context: 10/10  \\n   - The question accurately reflects the content of the passage, and the answer provides a credible explanation of the benefits of revising with a classmate as mentioned in the context.\\n\\n3. Relevance of the questions to the context: 10/10  \\n   - The question is directly relevant to the context, as it asks about a specific revision strategy discussed in the passage.\\n\\nAdditional Comments:  \\n- The question and answer are well-constructed and align perfectly with the provided context.',\n",
       " 'Feedback:\\n\\n1. Grammar and spelling errors: 9/10\\n   - The question and answer are well-structured with no noticeable grammar or spelling errors.\\n\\n2. Accuracy / Credibility of the generated questions and answers based on the context: 8/10\\n   - The answer accurately defines a retail shop owner as an entrepreneur by highlighting the risks and innovation involved. However, it could be more detailed by mentioning the entrepreneurial mindset and the ability to adapt to market changes.\\n\\n3. Relevance of the questions to the context: 9/10\\n   - The question is relevant to the context of entrepreneurship and intellectual property, as it explores the concept of entrepreneurship in a practical scenario.\\n\\nAdditional Comments:\\n- The question effectively prompts the student to think critically about the definition of an entrepreneur, which is a key concept in the context of entrepreneurship studies.',\n",
       " '1. Grammar and spelling errors: 10/10\\n   - The question and options are free from any grammar or spelling errors.\\n\\n2. Accuracy / Credibility of the generated questions and answers based on the context: 10/10\\n   - The question accurately asks for the meaning of \\'revise\\' in British English as presented in the text. The correct answer, \"To re-read to improve knowledge,\" is consistent with the information provided in the context.\\n\\n3. Relevance of the questions to the context: 10/10\\n   - The question is directly relevant to the context, as it pertains to one of the secrets discussed in the text, specifically Secret #7 about revising.\\n\\nAdditional Comments: \\n- The question is well-constructed and effectively tests the reader\\'s understanding of the content provided in the text.',\n",
       " '1. Grammar and spelling errors: 10/10 \\n   - The question and options are free from grammar and spelling errors.\\n\\n2. Accuracy / Credibility of the generated questions and answers based on the context: 10/10 \\n   - The question accurately asks for an adjective, and the correct answer, \"B. Beautiful,\" is indeed an adjective.\\n\\n3. Relevance of the questions to the context: 10/10 \\n   - The question is relevant and appropriate for testing knowledge of parts of speech, specifically adjectives.\\n\\nAdditional Comments: \\n- The question is clear and straightforward, making it suitable for learners at a basic level of understanding parts of speech.',\n",
       " \"1. Grammar and spelling errors: 10/10\\n   - The question is free from any grammar or spelling errors.\\n\\n2. Accuracy / Credibility of the generated questions and answers based on the context: 10/10\\n   - The question accurately describes the concept of a predicate in a sentence and correctly identifies 'barks loudly' as the predicate in the given example.\\n\\n3. Relevance of the questions to the context: 10/10\\n   - The question is relevant to the context of understanding sentence structure, specifically focusing on the predicate.\\n\\nAdditional Comments:\\n- The question effectively tests the understanding of the predicate in sentence structure.\",\n",
       " '1. Grammar and spelling errors: 10/10 \\n   - The question and answer are grammatically correct and free of spelling errors.\\n\\n2. Accuracy / Credibility of the generated questions and answers based on the context: 10/10 \\n   - The question accurately reflects the context provided in question 11 of the exercise. The answer is consistent with the details given in the exercise.\\n\\n3. Relevance of the questions to the context: 10/10 \\n   - The question is directly relevant to the context of the exercise, asking for a description of a specific situation mentioned in the exercise.\\n\\nAdditional Comments:\\n- The question and answer are well-constructed and align perfectly with the context of the exercise. No improvements are necessary.',\n",
       " '1. Grammar and spelling errors: 10/10 \\n   - The question and options are free from any grammar or spelling errors.\\n\\n2. Accuracy / Credibility of the generated questions and answers based on the context: 10/10\\n   - The question accurately asks for the opposite of \"cold,\" and the correct answer \"A. Hot\" is accurate and credible.\\n\\n3. Relevance of the questions to the context: N/A\\n   - There is no specific context provided, but the question is a general vocabulary question that is relevant for language learning.\\n\\nAdditional Comments: \\n- The question is straightforward and suitable for testing basic vocabulary knowledge.',\n",
       " '1. Grammar and spelling errors: 10/10 \\n   - The question and options are free from grammar and spelling errors.\\n\\n2. Accuracy / Credibility of the generated questions and answers based on the context: 10/10 \\n   - The question accurately reflects the information provided in the context. The correct answer, \"You can discuss mistakes,\" is directly supported by the context where a student mentions discussing mistakes with a classmate as a helpful revision strategy.\\n\\n3. Relevance of the questions to the context: 10/10 \\n   - The question is highly relevant to the context, as it focuses on one of the revision strategies discussed in the provided text.\\n\\nAdditional comments: The question is well-constructed and effectively assesses the reader\\'s understanding of the revision strategies mentioned in the context.']"
      ]
     },
     "execution_count": 13,
     "metadata": {},
     "output_type": "execute_result"
    }
   ],
   "source": [
    "evaluator = question_validation(full_quiz, file_paths)\n",
    "evaluator"
   ]
  },
  {
   "cell_type": "code",
   "execution_count": 14,
   "metadata": {},
   "outputs": [
    {
     "name": "stdout",
     "output_type": "stream",
     "text": [
      "1. Grammar and spelling errors: 10/10\n",
      "   - The question and answer are free from any grammar or spelling errors.\n",
      "\n",
      "2. Accuracy / Credibility of the generated questions and answers based on the context: 10/10\n",
      "   - The question accurately reflects the information provided in the context. Anna indeed revises daily, spending at least half an hour on different areas of language, including listening.\n",
      "\n",
      "3. Relevance of the questions to the context: 10/10\n",
      "   - The question is directly relevant to the context, focusing on Anna's revision strategy, which is a key part of the provided text.\n",
      "\n",
      "Additional Comments:\n",
      "- The question effectively tests the reader's understanding of the specific details mentioned in the context.\n"
     ]
    }
   ],
   "source": [
    "print(evaluator[1])"
   ]
  },
  {
   "cell_type": "code",
   "execution_count": 15,
   "metadata": {},
   "outputs": [],
   "source": [
    "Q_FEEDBACK_PROMPT_TEMPLATE = '''\n",
    "You are an expert in creating educational content, specializing in evaluating questions / assignments for English language. You have been given a set of answers to review.\n",
    "You should validate the answers based on the following criteria:\n",
    "\n",
    "        1. Grammar and spelling errors\n",
    "        2. Accuracy / Creditability of the generated answers\n",
    "        3. Relevance of the answer to the question\n",
    "\n",
    "Here you have provided the candidate answer and the questions with correct answers\n",
    "\n",
    "-----------------------------------------\n",
    "{questions}                                                                             \n",
    "-----------------------------------------\n",
    "\n",
    "Candidate Answer : {answer}\n",
    "\n",
    "Please provide your feeddback for each of the above criterias out of 10. also provide any additional comments but short if needed.\n",
    "'''\n",
    "\n",
    "qfeedback_template = ChatPromptTemplate(\n",
    "                                    message_templates=[\n",
    "                                                    ChatMessage(\n",
    "                                                                role=MessageRole.SYSTEM, \n",
    "                                                                content=Q_FEEDBACK_PROMPT_TEMPLATE\n",
    "                                                                )\n",
    "                                                    ]\n",
    "                                    )"
   ]
  },
  {
   "cell_type": "code",
   "execution_count": 16,
   "metadata": {},
   "outputs": [],
   "source": [
    "def generate_feedback(\n",
    "                    question,\n",
    "                    answer\n",
    "                    ):\n",
    "    fmt_messages = qfeedback_template.format_messages(\n",
    "                                                    questions=question,\n",
    "                                                    answer=answer\n",
    "                                                    )\n",
    "    chat_response = llm.chat(fmt_messages)\n",
    "    raw_output = chat_response.message.content\n",
    "    return raw_output"
   ]
  },
  {
   "cell_type": "code",
   "execution_count": 17,
   "metadata": {},
   "outputs": [
    {
     "data": {
      "text/plain": [
       "{'Question': 'What is the main goal of the Biophilic Cities Network?',\n",
       " 'options': ['To increase urbanization',\n",
       "  'To reduce greenhouse gas emissions',\n",
       "  'To integrate nature into urban living',\n",
       "  'To promote industrial growth'],\n",
       " 'correct_answer': 'C'}"
      ]
     },
     "execution_count": 17,
     "metadata": {},
     "output_type": "execute_result"
    }
   ],
   "source": [
    "question = full_quiz[3]\n",
    "question"
   ]
  },
  {
   "cell_type": "code",
   "execution_count": 19,
   "metadata": {},
   "outputs": [
    {
     "name": "stdout",
     "output_type": "stream",
     "text": [
      "Feedback for Candidate Answer:\n",
      "\n",
      "1. Grammar and Spelling Errors: 10/10\n",
      "   - The candidate's answer is a single letter, \"C,\" which does not contain any grammar or spelling errors.\n",
      "\n",
      "2. Accuracy / Credibility of the Generated Answer: 10/10\n",
      "   - The candidate correctly selected option \"C,\" which aligns with the correct answer provided. The main goal of the Biophilic Cities Network is indeed to integrate nature into urban living.\n",
      "\n",
      "3. Relevance of the Answer to the Question: 10/10\n",
      "   - The candidate's answer is directly relevant to the question asked. The selection of option \"C\" accurately addresses the question regarding the main goal of the Biophilic Cities Network.\n",
      "\n",
      "Additional Comments:\n",
      "- The candidate provided the correct answer, and there are no issues with grammar, spelling, accuracy, or relevance. Well done!\n"
     ]
    }
   ],
   "source": [
    "answer = \"C\"\n",
    "feedback = generate_feedback(question, answer)\n",
    "print(feedback)"
   ]
  }
 ],
 "metadata": {
  "kernelspec": {
   "display_name": "myenv",
   "language": "python",
   "name": "python3"
  },
  "language_info": {
   "codemirror_mode": {
    "name": "ipython",
    "version": 3
   },
   "file_extension": ".py",
   "mimetype": "text/x-python",
   "name": "python",
   "nbconvert_exporter": "python",
   "pygments_lexer": "ipython3",
   "version": "3.10.15"
  }
 },
 "nbformat": 4,
 "nbformat_minor": 2
}
